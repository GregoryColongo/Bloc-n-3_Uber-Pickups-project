{
 "cells": [
  {
   "cell_type": "code",
   "execution_count": 11,
   "metadata": {},
   "outputs": [
    {
     "name": "stdout",
     "output_type": "stream",
     "text": [
      "Requirement already satisfied: plotly in /opt/conda/lib/python3.9/site-packages (5.5.0)\n",
      "Requirement already satisfied: six in /opt/conda/lib/python3.9/site-packages (from plotly) (1.16.0)\n",
      "Requirement already satisfied: tenacity>=6.2.0 in /opt/conda/lib/python3.9/site-packages (from plotly) (8.0.1)\n"
     ]
    }
   ],
   "source": [
    "# Librairies\n",
    "\n",
    "! pip install plotly\n",
    "import plotly.graph_objects as go\n",
    "import plotly.io as pio\n",
    "import plotly.express as px\n",
    "\n",
    "import pandas as pd\n",
    "import numpy as np\n",
    "\n",
    "\n",
    "from sklearn.pipeline import Pipeline\n",
    "from sklearn.impute import SimpleImputer\n",
    "from sklearn.preprocessing import  OneHotEncoder, StandardScaler\n",
    "from sklearn.compose import ColumnTransformer\n",
    "from sklearn.cluster import KMeans, DBSCAN\n",
    "from sklearn.metrics import  silhouette_score\n",
    "\n",
    "import warnings\n",
    "warnings.filterwarnings(\"ignore\", category=DeprecationWarning)\n",
    "pio.renderers.default = \"iframe_connected\""
   ]
  },
  {
   "cell_type": "code",
   "execution_count": 22,
   "metadata": {},
   "outputs": [],
   "source": [
    "uberdata = pd.read_csv(\"uber-raw-data-apr14.csv\")"
   ]
  },
  {
   "cell_type": "code",
   "execution_count": 17,
   "metadata": {},
   "outputs": [
    {
     "data": {
      "text/html": [
       "<div>\n",
       "<style scoped>\n",
       "    .dataframe tbody tr th:only-of-type {\n",
       "        vertical-align: middle;\n",
       "    }\n",
       "\n",
       "    .dataframe tbody tr th {\n",
       "        vertical-align: top;\n",
       "    }\n",
       "\n",
       "    .dataframe thead th {\n",
       "        text-align: right;\n",
       "    }\n",
       "</style>\n",
       "<table border=\"1\" class=\"dataframe\">\n",
       "  <thead>\n",
       "    <tr style=\"text-align: right;\">\n",
       "      <th></th>\n",
       "      <th>Date/Time</th>\n",
       "      <th>Lat</th>\n",
       "      <th>Lon</th>\n",
       "      <th>Base</th>\n",
       "    </tr>\n",
       "  </thead>\n",
       "  <tbody>\n",
       "    <tr>\n",
       "      <th>0</th>\n",
       "      <td>4/1/2014 0:11:00</td>\n",
       "      <td>40.7690</td>\n",
       "      <td>-73.9549</td>\n",
       "      <td>B02512</td>\n",
       "    </tr>\n",
       "    <tr>\n",
       "      <th>1</th>\n",
       "      <td>4/1/2014 0:17:00</td>\n",
       "      <td>40.7267</td>\n",
       "      <td>-74.0345</td>\n",
       "      <td>B02512</td>\n",
       "    </tr>\n",
       "    <tr>\n",
       "      <th>2</th>\n",
       "      <td>4/1/2014 0:21:00</td>\n",
       "      <td>40.7316</td>\n",
       "      <td>-73.9873</td>\n",
       "      <td>B02512</td>\n",
       "    </tr>\n",
       "    <tr>\n",
       "      <th>3</th>\n",
       "      <td>4/1/2014 0:28:00</td>\n",
       "      <td>40.7588</td>\n",
       "      <td>-73.9776</td>\n",
       "      <td>B02512</td>\n",
       "    </tr>\n",
       "    <tr>\n",
       "      <th>4</th>\n",
       "      <td>4/1/2014 0:33:00</td>\n",
       "      <td>40.7594</td>\n",
       "      <td>-73.9722</td>\n",
       "      <td>B02512</td>\n",
       "    </tr>\n",
       "    <tr>\n",
       "      <th>...</th>\n",
       "      <td>...</td>\n",
       "      <td>...</td>\n",
       "      <td>...</td>\n",
       "      <td>...</td>\n",
       "    </tr>\n",
       "    <tr>\n",
       "      <th>564511</th>\n",
       "      <td>4/30/2014 23:22:00</td>\n",
       "      <td>40.7640</td>\n",
       "      <td>-73.9744</td>\n",
       "      <td>B02764</td>\n",
       "    </tr>\n",
       "    <tr>\n",
       "      <th>564512</th>\n",
       "      <td>4/30/2014 23:26:00</td>\n",
       "      <td>40.7629</td>\n",
       "      <td>-73.9672</td>\n",
       "      <td>B02764</td>\n",
       "    </tr>\n",
       "    <tr>\n",
       "      <th>564513</th>\n",
       "      <td>4/30/2014 23:31:00</td>\n",
       "      <td>40.7443</td>\n",
       "      <td>-73.9889</td>\n",
       "      <td>B02764</td>\n",
       "    </tr>\n",
       "    <tr>\n",
       "      <th>564514</th>\n",
       "      <td>4/30/2014 23:32:00</td>\n",
       "      <td>40.6756</td>\n",
       "      <td>-73.9405</td>\n",
       "      <td>B02764</td>\n",
       "    </tr>\n",
       "    <tr>\n",
       "      <th>564515</th>\n",
       "      <td>4/30/2014 23:48:00</td>\n",
       "      <td>40.6880</td>\n",
       "      <td>-73.9608</td>\n",
       "      <td>B02764</td>\n",
       "    </tr>\n",
       "  </tbody>\n",
       "</table>\n",
       "<p>564516 rows × 4 columns</p>\n",
       "</div>"
      ],
      "text/plain": [
       "                 Date/Time      Lat      Lon    Base\n",
       "0         4/1/2014 0:11:00  40.7690 -73.9549  B02512\n",
       "1         4/1/2014 0:17:00  40.7267 -74.0345  B02512\n",
       "2         4/1/2014 0:21:00  40.7316 -73.9873  B02512\n",
       "3         4/1/2014 0:28:00  40.7588 -73.9776  B02512\n",
       "4         4/1/2014 0:33:00  40.7594 -73.9722  B02512\n",
       "...                    ...      ...      ...     ...\n",
       "564511  4/30/2014 23:22:00  40.7640 -73.9744  B02764\n",
       "564512  4/30/2014 23:26:00  40.7629 -73.9672  B02764\n",
       "564513  4/30/2014 23:31:00  40.7443 -73.9889  B02764\n",
       "564514  4/30/2014 23:32:00  40.6756 -73.9405  B02764\n",
       "564515  4/30/2014 23:48:00  40.6880 -73.9608  B02764\n",
       "\n",
       "[564516 rows x 4 columns]"
      ]
     },
     "execution_count": 17,
     "metadata": {},
     "output_type": "execute_result"
    }
   ],
   "source": [
    "uberdata"
   ]
  },
  {
   "cell_type": "code",
   "execution_count": 18,
   "metadata": {},
   "outputs": [
    {
     "name": "stdout",
     "output_type": "stream",
     "text": [
      "Number of rows : 564516\n",
      "\n",
      "Display of dataset: \n"
     ]
    },
    {
     "data": {
      "text/html": [
       "<div>\n",
       "<style scoped>\n",
       "    .dataframe tbody tr th:only-of-type {\n",
       "        vertical-align: middle;\n",
       "    }\n",
       "\n",
       "    .dataframe tbody tr th {\n",
       "        vertical-align: top;\n",
       "    }\n",
       "\n",
       "    .dataframe thead th {\n",
       "        text-align: right;\n",
       "    }\n",
       "</style>\n",
       "<table border=\"1\" class=\"dataframe\">\n",
       "  <thead>\n",
       "    <tr style=\"text-align: right;\">\n",
       "      <th></th>\n",
       "      <th>Date/Time</th>\n",
       "      <th>Lat</th>\n",
       "      <th>Lon</th>\n",
       "      <th>Base</th>\n",
       "    </tr>\n",
       "  </thead>\n",
       "  <tbody>\n",
       "    <tr>\n",
       "      <th>0</th>\n",
       "      <td>4/1/2014 0:11:00</td>\n",
       "      <td>40.7690</td>\n",
       "      <td>-73.9549</td>\n",
       "      <td>B02512</td>\n",
       "    </tr>\n",
       "    <tr>\n",
       "      <th>1</th>\n",
       "      <td>4/1/2014 0:17:00</td>\n",
       "      <td>40.7267</td>\n",
       "      <td>-74.0345</td>\n",
       "      <td>B02512</td>\n",
       "    </tr>\n",
       "    <tr>\n",
       "      <th>2</th>\n",
       "      <td>4/1/2014 0:21:00</td>\n",
       "      <td>40.7316</td>\n",
       "      <td>-73.9873</td>\n",
       "      <td>B02512</td>\n",
       "    </tr>\n",
       "    <tr>\n",
       "      <th>3</th>\n",
       "      <td>4/1/2014 0:28:00</td>\n",
       "      <td>40.7588</td>\n",
       "      <td>-73.9776</td>\n",
       "      <td>B02512</td>\n",
       "    </tr>\n",
       "    <tr>\n",
       "      <th>4</th>\n",
       "      <td>4/1/2014 0:33:00</td>\n",
       "      <td>40.7594</td>\n",
       "      <td>-73.9722</td>\n",
       "      <td>B02512</td>\n",
       "    </tr>\n",
       "  </tbody>\n",
       "</table>\n",
       "</div>"
      ],
      "text/plain": [
       "          Date/Time      Lat      Lon    Base\n",
       "0  4/1/2014 0:11:00  40.7690 -73.9549  B02512\n",
       "1  4/1/2014 0:17:00  40.7267 -74.0345  B02512\n",
       "2  4/1/2014 0:21:00  40.7316 -73.9873  B02512\n",
       "3  4/1/2014 0:28:00  40.7588 -73.9776  B02512\n",
       "4  4/1/2014 0:33:00  40.7594 -73.9722  B02512"
      ]
     },
     "metadata": {},
     "output_type": "display_data"
    },
    {
     "name": "stdout",
     "output_type": "stream",
     "text": [
      "\n",
      "Basics statistics: \n"
     ]
    },
    {
     "data": {
      "text/html": [
       "<div>\n",
       "<style scoped>\n",
       "    .dataframe tbody tr th:only-of-type {\n",
       "        vertical-align: middle;\n",
       "    }\n",
       "\n",
       "    .dataframe tbody tr th {\n",
       "        vertical-align: top;\n",
       "    }\n",
       "\n",
       "    .dataframe thead th {\n",
       "        text-align: right;\n",
       "    }\n",
       "</style>\n",
       "<table border=\"1\" class=\"dataframe\">\n",
       "  <thead>\n",
       "    <tr style=\"text-align: right;\">\n",
       "      <th></th>\n",
       "      <th>Date/Time</th>\n",
       "      <th>Lat</th>\n",
       "      <th>Lon</th>\n",
       "      <th>Base</th>\n",
       "    </tr>\n",
       "  </thead>\n",
       "  <tbody>\n",
       "    <tr>\n",
       "      <th>count</th>\n",
       "      <td>564516</td>\n",
       "      <td>564516.000000</td>\n",
       "      <td>564516.000000</td>\n",
       "      <td>564516</td>\n",
       "    </tr>\n",
       "    <tr>\n",
       "      <th>unique</th>\n",
       "      <td>41999</td>\n",
       "      <td>NaN</td>\n",
       "      <td>NaN</td>\n",
       "      <td>5</td>\n",
       "    </tr>\n",
       "    <tr>\n",
       "      <th>top</th>\n",
       "      <td>4/7/2014 20:21:00</td>\n",
       "      <td>NaN</td>\n",
       "      <td>NaN</td>\n",
       "      <td>B02682</td>\n",
       "    </tr>\n",
       "    <tr>\n",
       "      <th>freq</th>\n",
       "      <td>97</td>\n",
       "      <td>NaN</td>\n",
       "      <td>NaN</td>\n",
       "      <td>227808</td>\n",
       "    </tr>\n",
       "    <tr>\n",
       "      <th>mean</th>\n",
       "      <td>NaN</td>\n",
       "      <td>40.740005</td>\n",
       "      <td>-73.976817</td>\n",
       "      <td>NaN</td>\n",
       "    </tr>\n",
       "    <tr>\n",
       "      <th>std</th>\n",
       "      <td>NaN</td>\n",
       "      <td>0.036083</td>\n",
       "      <td>0.050426</td>\n",
       "      <td>NaN</td>\n",
       "    </tr>\n",
       "    <tr>\n",
       "      <th>min</th>\n",
       "      <td>NaN</td>\n",
       "      <td>40.072900</td>\n",
       "      <td>-74.773300</td>\n",
       "      <td>NaN</td>\n",
       "    </tr>\n",
       "    <tr>\n",
       "      <th>25%</th>\n",
       "      <td>NaN</td>\n",
       "      <td>40.722500</td>\n",
       "      <td>-73.997700</td>\n",
       "      <td>NaN</td>\n",
       "    </tr>\n",
       "    <tr>\n",
       "      <th>50%</th>\n",
       "      <td>NaN</td>\n",
       "      <td>40.742500</td>\n",
       "      <td>-73.984800</td>\n",
       "      <td>NaN</td>\n",
       "    </tr>\n",
       "    <tr>\n",
       "      <th>75%</th>\n",
       "      <td>NaN</td>\n",
       "      <td>40.760700</td>\n",
       "      <td>-73.970000</td>\n",
       "      <td>NaN</td>\n",
       "    </tr>\n",
       "    <tr>\n",
       "      <th>max</th>\n",
       "      <td>NaN</td>\n",
       "      <td>42.116600</td>\n",
       "      <td>-72.066600</td>\n",
       "      <td>NaN</td>\n",
       "    </tr>\n",
       "  </tbody>\n",
       "</table>\n",
       "</div>"
      ],
      "text/plain": [
       "                Date/Time            Lat            Lon    Base\n",
       "count              564516  564516.000000  564516.000000  564516\n",
       "unique              41999            NaN            NaN       5\n",
       "top     4/7/2014 20:21:00            NaN            NaN  B02682\n",
       "freq                   97            NaN            NaN  227808\n",
       "mean                  NaN      40.740005     -73.976817     NaN\n",
       "std                   NaN       0.036083       0.050426     NaN\n",
       "min                   NaN      40.072900     -74.773300     NaN\n",
       "25%                   NaN      40.722500     -73.997700     NaN\n",
       "50%                   NaN      40.742500     -73.984800     NaN\n",
       "75%                   NaN      40.760700     -73.970000     NaN\n",
       "max                   NaN      42.116600     -72.066600     NaN"
      ]
     },
     "metadata": {},
     "output_type": "display_data"
    },
    {
     "name": "stdout",
     "output_type": "stream",
     "text": [
      "\n",
      "Percentage of missing values: \n"
     ]
    },
    {
     "data": {
      "text/plain": [
       "Date/Time    0.0\n",
       "Lat          0.0\n",
       "Lon          0.0\n",
       "Base         0.0\n",
       "dtype: float64"
      ]
     },
     "metadata": {},
     "output_type": "display_data"
    },
    {
     "name": "stdout",
     "output_type": "stream",
     "text": [
      "\n",
      "Details of dataset with info: \n",
      "<class 'pandas.core.frame.DataFrame'>\n",
      "RangeIndex: 564516 entries, 0 to 564515\n",
      "Data columns (total 4 columns):\n",
      " #   Column     Non-Null Count   Dtype  \n",
      "---  ------     --------------   -----  \n",
      " 0   Date/Time  564516 non-null  object \n",
      " 1   Lat        564516 non-null  float64\n",
      " 2   Lon        564516 non-null  float64\n",
      " 3   Base       564516 non-null  object \n",
      "dtypes: float64(2), object(2)\n",
      "memory usage: 17.2+ MB\n"
     ]
    },
    {
     "data": {
      "text/plain": [
       "None"
      ]
     },
     "metadata": {},
     "output_type": "display_data"
    },
    {
     "name": "stdout",
     "output_type": "stream",
     "text": [
      "\n"
     ]
    }
   ],
   "source": [
    "# Basic statistics\n",
    "\n",
    "print(\"Number of rows : {}\".format(uberdata.shape[0]))\n",
    "print()\n",
    "\n",
    "print(\"Display of dataset: \")\n",
    "display(uberdata.head())\n",
    "print()\n",
    "\n",
    "print(\"Basics statistics: \")\n",
    "data_desc = uberdata.describe(include='all')\n",
    "display(data_desc)\n",
    "print()\n",
    "\n",
    "print(\"Percentage of missing values: \")\n",
    "display(100*uberdata.isnull().sum()/uberdata.shape[0])\n",
    "print()\n",
    "\n",
    "print(\"Details of dataset with info: \")\n",
    "display(uberdata.info())\n",
    "print()\n"
   ]
  },
  {
   "cell_type": "code",
   "execution_count": 23,
   "metadata": {},
   "outputs": [
    {
     "name": "stdout",
     "output_type": "stream",
     "text": [
      "          Date/Time      Lat      Lon\n",
      "0  4/1/2014 0:11:00  40.7690 -73.9549\n",
      "1  4/1/2014 0:17:00  40.7267 -74.0345\n",
      "2  4/1/2014 0:21:00  40.7316 -73.9873\n",
      "3  4/1/2014 0:28:00  40.7588 -73.9776\n",
      "4  4/1/2014 0:33:00  40.7594 -73.9722\n"
     ]
    }
   ],
   "source": [
    "# discard useless columns and convert date time in datetime format\n",
    " \n",
    "useless_cols = ['Base']\n",
    "\n",
    "uberdata = uberdata.drop(useless_cols, axis=1)\n",
    "print(uberdata.head())\n",
    "\n",
    "#convert date/time\n",
    "uberdata['Date/Time'] = pd.to_datetime(uberdata['Date/Time'])\n"
   ]
  },
  {
   "cell_type": "code",
   "execution_count": 24,
   "metadata": {},
   "outputs": [],
   "source": [
    "# Create 2 columns for splitting day and hour\n",
    "\n",
    "uberdata['date'] = uberdata['Date/Time'].dt.date\n",
    "uberdata['time'] = uberdata['Date/Time'].dt.time\n"
   ]
  },
  {
   "cell_type": "code",
   "execution_count": 25,
   "metadata": {},
   "outputs": [
    {
     "data": {
      "text/html": [
       "<div>\n",
       "<style scoped>\n",
       "    .dataframe tbody tr th:only-of-type {\n",
       "        vertical-align: middle;\n",
       "    }\n",
       "\n",
       "    .dataframe tbody tr th {\n",
       "        vertical-align: top;\n",
       "    }\n",
       "\n",
       "    .dataframe thead th {\n",
       "        text-align: right;\n",
       "    }\n",
       "</style>\n",
       "<table border=\"1\" class=\"dataframe\">\n",
       "  <thead>\n",
       "    <tr style=\"text-align: right;\">\n",
       "      <th></th>\n",
       "      <th>Date/Time</th>\n",
       "      <th>Lat</th>\n",
       "      <th>Lon</th>\n",
       "      <th>date</th>\n",
       "      <th>time</th>\n",
       "    </tr>\n",
       "  </thead>\n",
       "  <tbody>\n",
       "    <tr>\n",
       "      <th>0</th>\n",
       "      <td>2014-04-01 00:11:00</td>\n",
       "      <td>40.7690</td>\n",
       "      <td>-73.9549</td>\n",
       "      <td>2014-04-01</td>\n",
       "      <td>00:11:00</td>\n",
       "    </tr>\n",
       "    <tr>\n",
       "      <th>1</th>\n",
       "      <td>2014-04-01 00:17:00</td>\n",
       "      <td>40.7267</td>\n",
       "      <td>-74.0345</td>\n",
       "      <td>2014-04-01</td>\n",
       "      <td>00:17:00</td>\n",
       "    </tr>\n",
       "    <tr>\n",
       "      <th>2</th>\n",
       "      <td>2014-04-01 00:21:00</td>\n",
       "      <td>40.7316</td>\n",
       "      <td>-73.9873</td>\n",
       "      <td>2014-04-01</td>\n",
       "      <td>00:21:00</td>\n",
       "    </tr>\n",
       "    <tr>\n",
       "      <th>3</th>\n",
       "      <td>2014-04-01 00:28:00</td>\n",
       "      <td>40.7588</td>\n",
       "      <td>-73.9776</td>\n",
       "      <td>2014-04-01</td>\n",
       "      <td>00:28:00</td>\n",
       "    </tr>\n",
       "    <tr>\n",
       "      <th>4</th>\n",
       "      <td>2014-04-01 00:33:00</td>\n",
       "      <td>40.7594</td>\n",
       "      <td>-73.9722</td>\n",
       "      <td>2014-04-01</td>\n",
       "      <td>00:33:00</td>\n",
       "    </tr>\n",
       "    <tr>\n",
       "      <th>...</th>\n",
       "      <td>...</td>\n",
       "      <td>...</td>\n",
       "      <td>...</td>\n",
       "      <td>...</td>\n",
       "      <td>...</td>\n",
       "    </tr>\n",
       "    <tr>\n",
       "      <th>564511</th>\n",
       "      <td>2014-04-30 23:22:00</td>\n",
       "      <td>40.7640</td>\n",
       "      <td>-73.9744</td>\n",
       "      <td>2014-04-30</td>\n",
       "      <td>23:22:00</td>\n",
       "    </tr>\n",
       "    <tr>\n",
       "      <th>564512</th>\n",
       "      <td>2014-04-30 23:26:00</td>\n",
       "      <td>40.7629</td>\n",
       "      <td>-73.9672</td>\n",
       "      <td>2014-04-30</td>\n",
       "      <td>23:26:00</td>\n",
       "    </tr>\n",
       "    <tr>\n",
       "      <th>564513</th>\n",
       "      <td>2014-04-30 23:31:00</td>\n",
       "      <td>40.7443</td>\n",
       "      <td>-73.9889</td>\n",
       "      <td>2014-04-30</td>\n",
       "      <td>23:31:00</td>\n",
       "    </tr>\n",
       "    <tr>\n",
       "      <th>564514</th>\n",
       "      <td>2014-04-30 23:32:00</td>\n",
       "      <td>40.6756</td>\n",
       "      <td>-73.9405</td>\n",
       "      <td>2014-04-30</td>\n",
       "      <td>23:32:00</td>\n",
       "    </tr>\n",
       "    <tr>\n",
       "      <th>564515</th>\n",
       "      <td>2014-04-30 23:48:00</td>\n",
       "      <td>40.6880</td>\n",
       "      <td>-73.9608</td>\n",
       "      <td>2014-04-30</td>\n",
       "      <td>23:48:00</td>\n",
       "    </tr>\n",
       "  </tbody>\n",
       "</table>\n",
       "<p>564516 rows × 5 columns</p>\n",
       "</div>"
      ],
      "text/plain": [
       "                 Date/Time      Lat      Lon       date      time\n",
       "0      2014-04-01 00:11:00  40.7690 -73.9549 2014-04-01  00:11:00\n",
       "1      2014-04-01 00:17:00  40.7267 -74.0345 2014-04-01  00:17:00\n",
       "2      2014-04-01 00:21:00  40.7316 -73.9873 2014-04-01  00:21:00\n",
       "3      2014-04-01 00:28:00  40.7588 -73.9776 2014-04-01  00:28:00\n",
       "4      2014-04-01 00:33:00  40.7594 -73.9722 2014-04-01  00:33:00\n",
       "...                    ...      ...      ...        ...       ...\n",
       "564511 2014-04-30 23:22:00  40.7640 -73.9744 2014-04-30  23:22:00\n",
       "564512 2014-04-30 23:26:00  40.7629 -73.9672 2014-04-30  23:26:00\n",
       "564513 2014-04-30 23:31:00  40.7443 -73.9889 2014-04-30  23:31:00\n",
       "564514 2014-04-30 23:32:00  40.6756 -73.9405 2014-04-30  23:32:00\n",
       "564515 2014-04-30 23:48:00  40.6880 -73.9608 2014-04-30  23:48:00\n",
       "\n",
       "[564516 rows x 5 columns]"
      ]
     },
     "execution_count": 25,
     "metadata": {},
     "output_type": "execute_result"
    }
   ],
   "source": [
    "uberdata['date'] = pd.to_datetime(uberdata['date'])\n",
    "uberdata"
   ]
  },
  {
   "cell_type": "code",
   "execution_count": 26,
   "metadata": {},
   "outputs": [
    {
     "name": "stdout",
     "output_type": "stream",
     "text": [
      "                 Date/Time      Lat      Lon       date      time\n",
      "1837   2014-04-02 17:01:00  40.7574 -73.9862 2014-04-02  17:01:00\n",
      "1838   2014-04-02 17:01:00  40.7605 -73.9821 2014-04-02  17:01:00\n",
      "1839   2014-04-02 17:01:00  40.7518 -73.9758 2014-04-02  17:01:00\n",
      "1840   2014-04-02 17:02:00  40.7174 -74.0027 2014-04-02  17:02:00\n",
      "1841   2014-04-02 17:02:00  40.7717 -73.9827 2014-04-02  17:02:00\n",
      "...                    ...      ...      ...        ...       ...\n",
      "555160 2014-04-02 17:52:00  40.7495 -73.9887 2014-04-02  17:52:00\n",
      "555161 2014-04-02 17:54:00  40.7331 -73.9899 2014-04-02  17:54:00\n",
      "555162 2014-04-02 17:58:00  40.7596 -73.9765 2014-04-02  17:58:00\n",
      "555163 2014-04-02 17:58:00  40.7616 -73.9728 2014-04-02  17:58:00\n",
      "555164 2014-04-02 18:00:00  40.7065 -74.0056 2014-04-02  18:00:00\n",
      "\n",
      "[1589 rows x 5 columns]\n"
     ]
    }
   ],
   "source": [
    "# Focus on the second of April bewteen 17h to 18 h AM\n",
    "\n",
    "mask = (uberdata['Date/Time'] > '2014-04-02 17:00:00') & (uberdata['Date/Time'] <= '2014-04-02 18:00:00')\n",
    "onehour=uberdata.loc[mask]\n",
    "print(onehour)"
   ]
  },
  {
   "cell_type": "code",
   "execution_count": 27,
   "metadata": {},
   "outputs": [
    {
     "data": {
      "text/html": [
       "<div>\n",
       "<style scoped>\n",
       "    .dataframe tbody tr th:only-of-type {\n",
       "        vertical-align: middle;\n",
       "    }\n",
       "\n",
       "    .dataframe tbody tr th {\n",
       "        vertical-align: top;\n",
       "    }\n",
       "\n",
       "    .dataframe thead th {\n",
       "        text-align: right;\n",
       "    }\n",
       "</style>\n",
       "<table border=\"1\" class=\"dataframe\">\n",
       "  <thead>\n",
       "    <tr style=\"text-align: right;\">\n",
       "      <th></th>\n",
       "      <th>Date/Time</th>\n",
       "      <th>Lat</th>\n",
       "      <th>Lon</th>\n",
       "      <th>date</th>\n",
       "      <th>time</th>\n",
       "    </tr>\n",
       "  </thead>\n",
       "  <tbody>\n",
       "    <tr>\n",
       "      <th>1837</th>\n",
       "      <td>2014-04-02 17:01:00</td>\n",
       "      <td>40.7574</td>\n",
       "      <td>-73.9862</td>\n",
       "      <td>2014-04-02</td>\n",
       "      <td>17:01:00</td>\n",
       "    </tr>\n",
       "    <tr>\n",
       "      <th>1838</th>\n",
       "      <td>2014-04-02 17:01:00</td>\n",
       "      <td>40.7605</td>\n",
       "      <td>-73.9821</td>\n",
       "      <td>2014-04-02</td>\n",
       "      <td>17:01:00</td>\n",
       "    </tr>\n",
       "    <tr>\n",
       "      <th>1839</th>\n",
       "      <td>2014-04-02 17:01:00</td>\n",
       "      <td>40.7518</td>\n",
       "      <td>-73.9758</td>\n",
       "      <td>2014-04-02</td>\n",
       "      <td>17:01:00</td>\n",
       "    </tr>\n",
       "    <tr>\n",
       "      <th>1840</th>\n",
       "      <td>2014-04-02 17:02:00</td>\n",
       "      <td>40.7174</td>\n",
       "      <td>-74.0027</td>\n",
       "      <td>2014-04-02</td>\n",
       "      <td>17:02:00</td>\n",
       "    </tr>\n",
       "    <tr>\n",
       "      <th>1841</th>\n",
       "      <td>2014-04-02 17:02:00</td>\n",
       "      <td>40.7717</td>\n",
       "      <td>-73.9827</td>\n",
       "      <td>2014-04-02</td>\n",
       "      <td>17:02:00</td>\n",
       "    </tr>\n",
       "  </tbody>\n",
       "</table>\n",
       "</div>"
      ],
      "text/plain": [
       "               Date/Time      Lat      Lon       date      time\n",
       "1837 2014-04-02 17:01:00  40.7574 -73.9862 2014-04-02  17:01:00\n",
       "1838 2014-04-02 17:01:00  40.7605 -73.9821 2014-04-02  17:01:00\n",
       "1839 2014-04-02 17:01:00  40.7518 -73.9758 2014-04-02  17:01:00\n",
       "1840 2014-04-02 17:02:00  40.7174 -74.0027 2014-04-02  17:02:00\n",
       "1841 2014-04-02 17:02:00  40.7717 -73.9827 2014-04-02  17:02:00"
      ]
     },
     "execution_count": 27,
     "metadata": {},
     "output_type": "execute_result"
    }
   ],
   "source": [
    "# Transformation in panda dataframe\n",
    "\n",
    "onehour=pd.DataFrame(onehour)\n",
    "onehour.head()"
   ]
  },
  {
   "cell_type": "code",
   "execution_count": 28,
   "metadata": {},
   "outputs": [
    {
     "data": {
      "text/plain": [
       "(1589, 5)"
      ]
     },
     "execution_count": 28,
     "metadata": {},
     "output_type": "execute_result"
    }
   ],
   "source": [
    "#Size of the database\n",
    "\n",
    "onehour.shape"
   ]
  },
  {
   "cell_type": "code",
   "execution_count": 29,
   "metadata": {},
   "outputs": [
    {
     "name": "stdout",
     "output_type": "stream",
     "text": [
      "[[ 0.43701056 -0.12766065]\n",
      " [ 0.54071123 -0.01598008]\n",
      " [ 0.24968032  0.15562665]\n",
      " [-0.90106257 -0.57710684]\n",
      " [ 0.9153717  -0.03232358]]\n",
      "\n"
     ]
    }
   ],
   "source": [
    "#pre processing\n",
    "\n",
    "numeric_features = [1,2] \n",
    "numeric_transformer = Pipeline(steps=[\n",
    "    ('scaler', StandardScaler())\n",
    "])\n",
    "\n",
    "categorical_features = [] \n",
    "categorical_transformer = Pipeline(\n",
    "    steps=[\n",
    "    ('encoder', OneHotEncoder(drop='first')) \n",
    "    ])\n",
    "\n",
    "preprocessor = ColumnTransformer(\n",
    "    transformers=[\n",
    "        ('num', numeric_transformer, numeric_features),\n",
    "        ('cat', categorical_transformer, categorical_features)\n",
    "    ])\n",
    "\n",
    "X= preprocessor.fit_transform(onehour)\n",
    "print(X[0:5, :])\n",
    "print()\n"
   ]
  },
  {
   "cell_type": "markdown",
   "metadata": {},
   "source": [
    "### Kmeans model ###"
   ]
  },
  {
   "cell_type": "code",
   "execution_count": 34,
   "metadata": {},
   "outputs": [
    {
     "name": "stdout",
     "output_type": "stream",
     "text": [
      "[2316.3743716204854, 1505.8144861727226, 1159.2154210286922, 935.4065775342615, 765.1910662709124, 625.4681490361298, 510.49319649754705, 426.0039479978043, 363.45487943514905]\n"
     ]
    }
   ],
   "source": [
    "# Elbow model\n",
    "\n",
    "wcss =  []\n",
    "for i in range (2,11): \n",
    "    kmeans = KMeans(n_clusters= i)\n",
    "    kmeans.fit(X)\n",
    "    wcss.append(kmeans.inertia_)\n",
    "    \n",
    "print(wcss)"
   ]
  },
  {
   "cell_type": "code",
   "execution_count": 35,
   "metadata": {},
   "outputs": [
    {
     "data": {
      "text/html": [
       "<iframe\n",
       "    scrolling=\"no\"\n",
       "    width=\"100%\"\n",
       "    height=\"545px\"\n",
       "    src=\"iframe_figures/figure_35.html\"\n",
       "    frameborder=\"0\"\n",
       "    allowfullscreen\n",
       "></iframe>\n"
      ]
     },
     "metadata": {},
     "output_type": "display_data"
    }
   ],
   "source": [
    "#graph Elbow\n",
    "fig = px.line(x = range(2,11), y = wcss)\n",
    "fig.show()"
   ]
  },
  {
   "cell_type": "code",
   "execution_count": 36,
   "metadata": {},
   "outputs": [
    {
     "name": "stdout",
     "output_type": "stream",
     "text": [
      "[0.7699729901683824, 0.47556460002719847, 0.5177720022570272, 0.5224301461279867, 0.5152663780084531, 0.5182366823751762, 0.417701843156711, 0.42399834942752, 0.4302639371822176]\n"
     ]
    }
   ],
   "source": [
    "# Silhouette score\n",
    "\n",
    "s_score = []\n",
    "for i in range (2,11): \n",
    "    kmeans = KMeans(n_clusters= i)\n",
    "    kmeans.fit(X)\n",
    "    s_score.append(silhouette_score(X, kmeans.predict(X)))\n",
    "\n",
    "print(s_score)"
   ]
  },
  {
   "cell_type": "code",
   "execution_count": 37,
   "metadata": {},
   "outputs": [
    {
     "data": {
      "text/html": [
       "<iframe\n",
       "    scrolling=\"no\"\n",
       "    width=\"100%\"\n",
       "    height=\"545px\"\n",
       "    src=\"iframe_figures/figure_37.html\"\n",
       "    frameborder=\"0\"\n",
       "    allowfullscreen\n",
       "></iframe>\n"
      ]
     },
     "metadata": {},
     "output_type": "display_data"
    }
   ],
   "source": [
    "# Graph Silhouette score \n",
    "\n",
    "fig = px.bar(x = range(2,11), y = s_score)\n",
    "fig.show()"
   ]
  },
  {
   "cell_type": "code",
   "execution_count": 38,
   "metadata": {},
   "outputs": [
    {
     "data": {
      "text/plain": [
       "KMeans(n_clusters=6)"
      ]
     },
     "execution_count": 38,
     "metadata": {},
     "output_type": "execute_result"
    }
   ],
   "source": [
    "# Retraining with optimized K \n",
    "\n",
    "kmeans = KMeans(n_clusters= 6)\n",
    "kmeans.fit(X)"
   ]
  },
  {
   "cell_type": "code",
   "execution_count": 39,
   "metadata": {},
   "outputs": [
    {
     "data": {
      "text/html": [
       "<div>\n",
       "<style scoped>\n",
       "    .dataframe tbody tr th:only-of-type {\n",
       "        vertical-align: middle;\n",
       "    }\n",
       "\n",
       "    .dataframe tbody tr th {\n",
       "        vertical-align: top;\n",
       "    }\n",
       "\n",
       "    .dataframe thead th {\n",
       "        text-align: right;\n",
       "    }\n",
       "</style>\n",
       "<table border=\"1\" class=\"dataframe\">\n",
       "  <thead>\n",
       "    <tr style=\"text-align: right;\">\n",
       "      <th></th>\n",
       "      <th>Date/Time</th>\n",
       "      <th>Lat</th>\n",
       "      <th>Lon</th>\n",
       "      <th>date</th>\n",
       "      <th>time</th>\n",
       "      <th>Cluster_KMeans</th>\n",
       "    </tr>\n",
       "  </thead>\n",
       "  <tbody>\n",
       "    <tr>\n",
       "      <th>1837</th>\n",
       "      <td>2014-04-02 17:01:00</td>\n",
       "      <td>40.7574</td>\n",
       "      <td>-73.9862</td>\n",
       "      <td>2014-04-02</td>\n",
       "      <td>17:01:00</td>\n",
       "      <td>2</td>\n",
       "    </tr>\n",
       "    <tr>\n",
       "      <th>1838</th>\n",
       "      <td>2014-04-02 17:01:00</td>\n",
       "      <td>40.7605</td>\n",
       "      <td>-73.9821</td>\n",
       "      <td>2014-04-02</td>\n",
       "      <td>17:01:00</td>\n",
       "      <td>2</td>\n",
       "    </tr>\n",
       "    <tr>\n",
       "      <th>1839</th>\n",
       "      <td>2014-04-02 17:01:00</td>\n",
       "      <td>40.7518</td>\n",
       "      <td>-73.9758</td>\n",
       "      <td>2014-04-02</td>\n",
       "      <td>17:01:00</td>\n",
       "      <td>2</td>\n",
       "    </tr>\n",
       "    <tr>\n",
       "      <th>1840</th>\n",
       "      <td>2014-04-02 17:02:00</td>\n",
       "      <td>40.7174</td>\n",
       "      <td>-74.0027</td>\n",
       "      <td>2014-04-02</td>\n",
       "      <td>17:02:00</td>\n",
       "      <td>5</td>\n",
       "    </tr>\n",
       "    <tr>\n",
       "      <th>1841</th>\n",
       "      <td>2014-04-02 17:02:00</td>\n",
       "      <td>40.7717</td>\n",
       "      <td>-73.9827</td>\n",
       "      <td>2014-04-02</td>\n",
       "      <td>17:02:00</td>\n",
       "      <td>2</td>\n",
       "    </tr>\n",
       "  </tbody>\n",
       "</table>\n",
       "</div>"
      ],
      "text/plain": [
       "               Date/Time      Lat      Lon       date      time  \\\n",
       "1837 2014-04-02 17:01:00  40.7574 -73.9862 2014-04-02  17:01:00   \n",
       "1838 2014-04-02 17:01:00  40.7605 -73.9821 2014-04-02  17:01:00   \n",
       "1839 2014-04-02 17:01:00  40.7518 -73.9758 2014-04-02  17:01:00   \n",
       "1840 2014-04-02 17:02:00  40.7174 -74.0027 2014-04-02  17:02:00   \n",
       "1841 2014-04-02 17:02:00  40.7717 -73.9827 2014-04-02  17:02:00   \n",
       "\n",
       "      Cluster_KMeans  \n",
       "1837               2  \n",
       "1838               2  \n",
       "1839               2  \n",
       "1840               5  \n",
       "1841               2  "
      ]
     },
     "metadata": {},
     "output_type": "display_data"
    },
    {
     "name": "stdout",
     "output_type": "stream",
     "text": [
      "\n"
     ]
    },
    {
     "data": {
      "text/plain": [
       "2    749\n",
       "0    502\n",
       "5    273\n",
       "1     35\n",
       "3     24\n",
       "4      6\n",
       "Name: Cluster_KMeans, dtype: int64"
      ]
     },
     "metadata": {},
     "output_type": "display_data"
    },
    {
     "name": "stdout",
     "output_type": "stream",
     "text": [
      "\n"
     ]
    },
    {
     "data": {
      "text/html": [
       "<div>\n",
       "<style scoped>\n",
       "    .dataframe tbody tr th:only-of-type {\n",
       "        vertical-align: middle;\n",
       "    }\n",
       "\n",
       "    .dataframe tbody tr th {\n",
       "        vertical-align: top;\n",
       "    }\n",
       "\n",
       "    .dataframe thead th {\n",
       "        text-align: right;\n",
       "    }\n",
       "</style>\n",
       "<table border=\"1\" class=\"dataframe\">\n",
       "  <thead>\n",
       "    <tr style=\"text-align: right;\">\n",
       "      <th></th>\n",
       "      <th>Date/Time</th>\n",
       "      <th>Lat</th>\n",
       "      <th>Lon</th>\n",
       "      <th>date</th>\n",
       "      <th>time</th>\n",
       "      <th>Cluster_KMeans</th>\n",
       "    </tr>\n",
       "  </thead>\n",
       "  <tbody>\n",
       "    <tr>\n",
       "      <th>1837</th>\n",
       "      <td>2014-04-02 17:01:00</td>\n",
       "      <td>40.7574</td>\n",
       "      <td>-73.9862</td>\n",
       "      <td>2014-04-02</td>\n",
       "      <td>17:01:00</td>\n",
       "      <td>2</td>\n",
       "    </tr>\n",
       "    <tr>\n",
       "      <th>1838</th>\n",
       "      <td>2014-04-02 17:01:00</td>\n",
       "      <td>40.7605</td>\n",
       "      <td>-73.9821</td>\n",
       "      <td>2014-04-02</td>\n",
       "      <td>17:01:00</td>\n",
       "      <td>2</td>\n",
       "    </tr>\n",
       "    <tr>\n",
       "      <th>1839</th>\n",
       "      <td>2014-04-02 17:01:00</td>\n",
       "      <td>40.7518</td>\n",
       "      <td>-73.9758</td>\n",
       "      <td>2014-04-02</td>\n",
       "      <td>17:01:00</td>\n",
       "      <td>2</td>\n",
       "    </tr>\n",
       "    <tr>\n",
       "      <th>1840</th>\n",
       "      <td>2014-04-02 17:02:00</td>\n",
       "      <td>40.7174</td>\n",
       "      <td>-74.0027</td>\n",
       "      <td>2014-04-02</td>\n",
       "      <td>17:02:00</td>\n",
       "      <td>5</td>\n",
       "    </tr>\n",
       "    <tr>\n",
       "      <th>1841</th>\n",
       "      <td>2014-04-02 17:02:00</td>\n",
       "      <td>40.7717</td>\n",
       "      <td>-73.9827</td>\n",
       "      <td>2014-04-02</td>\n",
       "      <td>17:02:00</td>\n",
       "      <td>2</td>\n",
       "    </tr>\n",
       "    <tr>\n",
       "      <th>...</th>\n",
       "      <td>...</td>\n",
       "      <td>...</td>\n",
       "      <td>...</td>\n",
       "      <td>...</td>\n",
       "      <td>...</td>\n",
       "      <td>...</td>\n",
       "    </tr>\n",
       "    <tr>\n",
       "      <th>555160</th>\n",
       "      <td>2014-04-02 17:52:00</td>\n",
       "      <td>40.7495</td>\n",
       "      <td>-73.9887</td>\n",
       "      <td>2014-04-02</td>\n",
       "      <td>17:52:00</td>\n",
       "      <td>0</td>\n",
       "    </tr>\n",
       "    <tr>\n",
       "      <th>555161</th>\n",
       "      <td>2014-04-02 17:54:00</td>\n",
       "      <td>40.7331</td>\n",
       "      <td>-73.9899</td>\n",
       "      <td>2014-04-02</td>\n",
       "      <td>17:54:00</td>\n",
       "      <td>0</td>\n",
       "    </tr>\n",
       "    <tr>\n",
       "      <th>555162</th>\n",
       "      <td>2014-04-02 17:58:00</td>\n",
       "      <td>40.7596</td>\n",
       "      <td>-73.9765</td>\n",
       "      <td>2014-04-02</td>\n",
       "      <td>17:58:00</td>\n",
       "      <td>2</td>\n",
       "    </tr>\n",
       "    <tr>\n",
       "      <th>555163</th>\n",
       "      <td>2014-04-02 17:58:00</td>\n",
       "      <td>40.7616</td>\n",
       "      <td>-73.9728</td>\n",
       "      <td>2014-04-02</td>\n",
       "      <td>17:58:00</td>\n",
       "      <td>2</td>\n",
       "    </tr>\n",
       "    <tr>\n",
       "      <th>555164</th>\n",
       "      <td>2014-04-02 18:00:00</td>\n",
       "      <td>40.7065</td>\n",
       "      <td>-74.0056</td>\n",
       "      <td>2014-04-02</td>\n",
       "      <td>18:00:00</td>\n",
       "      <td>5</td>\n",
       "    </tr>\n",
       "  </tbody>\n",
       "</table>\n",
       "<p>1589 rows × 6 columns</p>\n",
       "</div>"
      ],
      "text/plain": [
       "                 Date/Time      Lat      Lon       date      time  \\\n",
       "1837   2014-04-02 17:01:00  40.7574 -73.9862 2014-04-02  17:01:00   \n",
       "1838   2014-04-02 17:01:00  40.7605 -73.9821 2014-04-02  17:01:00   \n",
       "1839   2014-04-02 17:01:00  40.7518 -73.9758 2014-04-02  17:01:00   \n",
       "1840   2014-04-02 17:02:00  40.7174 -74.0027 2014-04-02  17:02:00   \n",
       "1841   2014-04-02 17:02:00  40.7717 -73.9827 2014-04-02  17:02:00   \n",
       "...                    ...      ...      ...        ...       ...   \n",
       "555160 2014-04-02 17:52:00  40.7495 -73.9887 2014-04-02  17:52:00   \n",
       "555161 2014-04-02 17:54:00  40.7331 -73.9899 2014-04-02  17:54:00   \n",
       "555162 2014-04-02 17:58:00  40.7596 -73.9765 2014-04-02  17:58:00   \n",
       "555163 2014-04-02 17:58:00  40.7616 -73.9728 2014-04-02  17:58:00   \n",
       "555164 2014-04-02 18:00:00  40.7065 -74.0056 2014-04-02  18:00:00   \n",
       "\n",
       "        Cluster_KMeans  \n",
       "1837                 2  \n",
       "1838                 2  \n",
       "1839                 2  \n",
       "1840                 5  \n",
       "1841                 2  \n",
       "...                ...  \n",
       "555160               0  \n",
       "555161               0  \n",
       "555162               2  \n",
       "555163               2  \n",
       "555164               5  \n",
       "\n",
       "[1589 rows x 6 columns]"
      ]
     },
     "execution_count": 39,
     "metadata": {},
     "output_type": "execute_result"
    }
   ],
   "source": [
    "#addition of Cluster_KMeans column\n",
    "\n",
    "onehour.loc[:,'Cluster_KMeans'] = kmeans.predict(X)\n",
    "onehour.head()\n",
    "display(onehour.head())\n",
    "print()\n",
    "onehour[\"Cluster_KMeans\"].value_counts()\n",
    "display (onehour[\"Cluster_KMeans\"].value_counts())\n",
    "print()\n",
    "onehour"
   ]
  },
  {
   "cell_type": "code",
   "execution_count": 40,
   "metadata": {},
   "outputs": [
    {
     "data": {
      "text/html": [
       "<iframe\n",
       "    scrolling=\"no\"\n",
       "    width=\"100%\"\n",
       "    height=\"545px\"\n",
       "    src=\"iframe_figures/figure_40.html\"\n",
       "    frameborder=\"0\"\n",
       "    allowfullscreen\n",
       "></iframe>\n"
      ]
     },
     "metadata": {},
     "output_type": "display_data"
    }
   ],
   "source": [
    "# Display the clusters on the map\n",
    "\n",
    "fig = px.scatter_mapbox(onehour, lat='Lat', lon='Lon', opacity=0.5, mapbox_style=\"carto-positron\",color = \"Cluster_KMeans\",\n",
    "  zoom=10)\n",
    "fig.show()"
   ]
  },
  {
   "cell_type": "markdown",
   "metadata": {},
   "source": [
    "### DBscan model ###"
   ]
  },
  {
   "cell_type": "code",
   "execution_count": 45,
   "metadata": {},
   "outputs": [
    {
     "data": {
      "text/plain": [
       "DBSCAN(eps=0.2, metric='manhattan')"
      ]
     },
     "execution_count": 45,
     "metadata": {},
     "output_type": "execute_result"
    }
   ],
   "source": [
    "# Instanciate DBSCAN with LOW min_samples\n",
    "\n",
    "db = DBSCAN(eps=0.2, min_samples=5, metric=\"manhattan\")\n",
    "\n",
    "db.fit(X)"
   ]
  },
  {
   "cell_type": "code",
   "execution_count": 48,
   "metadata": {},
   "outputs": [
    {
     "data": {
      "text/plain": [
       "array([-1,  0,  1,  2,  3,  4,  5])"
      ]
     },
     "execution_count": 48,
     "metadata": {},
     "output_type": "execute_result"
    }
   ],
   "source": [
    "#Find out how many clusters DBSCAN created.\n",
    "\n",
    "np.unique(db.labels_)"
   ]
  },
  {
   "cell_type": "code",
   "execution_count": 51,
   "metadata": {},
   "outputs": [
    {
     "data": {
      "text/html": [
       "<div>\n",
       "<style scoped>\n",
       "    .dataframe tbody tr th:only-of-type {\n",
       "        vertical-align: middle;\n",
       "    }\n",
       "\n",
       "    .dataframe tbody tr th {\n",
       "        vertical-align: top;\n",
       "    }\n",
       "\n",
       "    .dataframe thead th {\n",
       "        text-align: right;\n",
       "    }\n",
       "</style>\n",
       "<table border=\"1\" class=\"dataframe\">\n",
       "  <thead>\n",
       "    <tr style=\"text-align: right;\">\n",
       "      <th></th>\n",
       "      <th>Date/Time</th>\n",
       "      <th>Lat</th>\n",
       "      <th>Lon</th>\n",
       "      <th>date</th>\n",
       "      <th>time</th>\n",
       "      <th>Cluster_KMeans</th>\n",
       "      <th>cluster_DBSCAN</th>\n",
       "    </tr>\n",
       "  </thead>\n",
       "  <tbody>\n",
       "    <tr>\n",
       "      <th>1837</th>\n",
       "      <td>2014-04-02 17:01:00</td>\n",
       "      <td>40.7574</td>\n",
       "      <td>-73.9862</td>\n",
       "      <td>2014-04-02</td>\n",
       "      <td>17:01:00</td>\n",
       "      <td>2</td>\n",
       "      <td>0</td>\n",
       "    </tr>\n",
       "    <tr>\n",
       "      <th>1838</th>\n",
       "      <td>2014-04-02 17:01:00</td>\n",
       "      <td>40.7605</td>\n",
       "      <td>-73.9821</td>\n",
       "      <td>2014-04-02</td>\n",
       "      <td>17:01:00</td>\n",
       "      <td>2</td>\n",
       "      <td>0</td>\n",
       "    </tr>\n",
       "    <tr>\n",
       "      <th>1839</th>\n",
       "      <td>2014-04-02 17:01:00</td>\n",
       "      <td>40.7518</td>\n",
       "      <td>-73.9758</td>\n",
       "      <td>2014-04-02</td>\n",
       "      <td>17:01:00</td>\n",
       "      <td>2</td>\n",
       "      <td>0</td>\n",
       "    </tr>\n",
       "    <tr>\n",
       "      <th>1840</th>\n",
       "      <td>2014-04-02 17:02:00</td>\n",
       "      <td>40.7174</td>\n",
       "      <td>-74.0027</td>\n",
       "      <td>2014-04-02</td>\n",
       "      <td>17:02:00</td>\n",
       "      <td>5</td>\n",
       "      <td>0</td>\n",
       "    </tr>\n",
       "    <tr>\n",
       "      <th>1841</th>\n",
       "      <td>2014-04-02 17:02:00</td>\n",
       "      <td>40.7717</td>\n",
       "      <td>-73.9827</td>\n",
       "      <td>2014-04-02</td>\n",
       "      <td>17:02:00</td>\n",
       "      <td>2</td>\n",
       "      <td>0</td>\n",
       "    </tr>\n",
       "  </tbody>\n",
       "</table>\n",
       "</div>"
      ],
      "text/plain": [
       "               Date/Time      Lat      Lon       date      time  \\\n",
       "1837 2014-04-02 17:01:00  40.7574 -73.9862 2014-04-02  17:01:00   \n",
       "1838 2014-04-02 17:01:00  40.7605 -73.9821 2014-04-02  17:01:00   \n",
       "1839 2014-04-02 17:01:00  40.7518 -73.9758 2014-04-02  17:01:00   \n",
       "1840 2014-04-02 17:02:00  40.7174 -74.0027 2014-04-02  17:02:00   \n",
       "1841 2014-04-02 17:02:00  40.7717 -73.9827 2014-04-02  17:02:00   \n",
       "\n",
       "      Cluster_KMeans  cluster_DBSCAN  \n",
       "1837               2               0  \n",
       "1838               2               0  \n",
       "1839               2               0  \n",
       "1840               5               0  \n",
       "1841               2               0  "
      ]
     },
     "execution_count": 51,
     "metadata": {},
     "output_type": "execute_result"
    }
   ],
   "source": [
    "#Add a new column \"cluster\" to data_sample where each observations are going to be the label of the corresponding cluster.\n",
    "\n",
    "onehour[\"cluster_DBSCAN\"] = db.labels_\n",
    "\n",
    "onehour.head()"
   ]
  },
  {
   "cell_type": "code",
   "execution_count": 53,
   "metadata": {},
   "outputs": [
    {
     "data": {
      "text/html": [
       "<iframe\n",
       "    scrolling=\"no\"\n",
       "    width=\"100%\"\n",
       "    height=\"545px\"\n",
       "    src=\"iframe_figures/figure_53.html\"\n",
       "    frameborder=\"0\"\n",
       "    allowfullscreen\n",
       "></iframe>\n"
      ]
     },
     "metadata": {},
     "output_type": "display_data"
    }
   ],
   "source": [
    "#Visualize all the clusters on a map except all the ones that DBSCAN considered as outliers.\n",
    "\n",
    "fig = px.scatter_mapbox(onehour, lat='Lat', lon='Lon', opacity=0.5, mapbox_style=\"carto-positron\",color = \"cluster_DBSCAN\",\n",
    "  zoom=10)\n",
    "fig.show(renderer=\"iframe\")"
   ]
  },
  {
   "cell_type": "code",
   "execution_count": 26,
   "metadata": {},
   "outputs": [],
   "source": [
    "# conclusion (to be filled in)"
   ]
  },
  {
   "cell_type": "code",
   "execution_count": null,
   "metadata": {},
   "outputs": [],
   "source": []
  }
 ],
 "metadata": {
  "kernelspec": {
   "display_name": "Python 3 (ipykernel)",
   "language": "python",
   "name": "python3"
  },
  "language_info": {
   "codemirror_mode": {
    "name": "ipython",
    "version": 3
   },
   "file_extension": ".py",
   "mimetype": "text/x-python",
   "name": "python",
   "nbconvert_exporter": "python",
   "pygments_lexer": "ipython3",
   "version": "3.9.7"
  }
 },
 "nbformat": 4,
 "nbformat_minor": 4
}
